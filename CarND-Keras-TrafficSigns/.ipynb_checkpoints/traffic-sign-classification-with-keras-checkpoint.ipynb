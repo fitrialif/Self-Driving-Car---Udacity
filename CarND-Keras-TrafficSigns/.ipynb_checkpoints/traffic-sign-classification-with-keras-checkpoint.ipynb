{
 "cells": [
  {
   "cell_type": "markdown",
   "metadata": {},
   "source": [
    "# Traffic Sign Classification with Keras\n",
    "\n",
    "Keras exists to make coding deep neural networks simpler. To demonstrate just how easy it is, you’re going to use Keras to build a convolutional neural network in a few dozen lines of code.\n",
    "\n",
    "You’ll be connecting the concepts from the previous lessons to the methods that Keras provides."
   ]
  },
  {
   "cell_type": "markdown",
   "metadata": {},
   "source": [
    "## Dataset\n",
    "\n",
    "The network you'll build with Keras is similar to the example that you can find in Keras’s GitHub repository that builds out a [convolutional neural network for MNIST](https://github.com/fchollet/keras/blob/master/examples/mnist_cnn.py). \n",
    "\n",
    "However, instead of using the [MNIST](http://yann.lecun.com/exdb/mnist/) dataset, you're going to use the [German Traffic Sign Recognition Benchmark](http://benchmark.ini.rub.de/?section=gtsrb&subsection=news) dataset that you've used previously.\n",
    "\n",
    "You can download pickle files with sanitized traffic sign data here."
   ]
  },
  {
   "cell_type": "markdown",
   "metadata": {},
   "source": [
    "## Overview\n",
    "\n",
    "Here are the steps you'll take to build the network:\n",
    "\n",
    "1. First load the training data and do a train/validation split.\n",
    "2. Preprocess data.\n",
    "3. Build a feedforward neural network to classify traffic signs.\n",
    "4. Build a convolutional neural network to classify traffic signs.\n",
    "5. Evaluate performance of final neural network on testing data.\n",
    "\n",
    "Keep an eye on the network’s accuracy over time. Once the accuracy reaches the 98% range, you can be confident that you’ve built and trained an effective model."
   ]
  },
  {
   "cell_type": "code",
   "execution_count": 8,
   "metadata": {
    "collapsed": false
   },
   "outputs": [],
   "source": [
    "import pickle\n",
    "import numpy as np\n",
    "from sklearn.cross_validation import train_test_split\n",
    "import math\n",
    "import cv2\n",
    "import keras\n",
    "from keras.models import Sequential\n",
    "from keras.layers.core import Dense, Dropout, Activation\n",
    "from keras.optimizers import SGD, Adam, RMSprop\n",
    "from keras.utils import np_utils\n",
    "from keras.layers import Convolution2D, MaxPooling2D, Flatten\n"
   ]
  },
  {
   "cell_type": "markdown",
   "metadata": {},
   "source": [
    "## Load the Data\n",
    "\n",
    "Start by importing the data from the pickle file."
   ]
  },
  {
   "cell_type": "code",
   "execution_count": 2,
   "metadata": {
    "collapsed": false
   },
   "outputs": [],
   "source": [
    "# TODO: Implement load the data here.\n",
    "with open('./Data/train.p', 'rb') as f:\n",
    "    data = pickle.load(f)"
   ]
  },
  {
   "cell_type": "markdown",
   "metadata": {},
   "source": [
    "## Validate the Network\n",
    "Split the training data into a training and validation set.\n",
    "\n",
    "Measure the [validation accuracy](https://keras.io/models/sequential/) of the network after two training epochs.\n",
    "\n",
    "Hint: [Use the `train_test_split()` method](http://scikit-learn.org/stable/modules/generated/sklearn.model_selection.train_test_split.html) from scikit-learn."
   ]
  },
  {
   "cell_type": "code",
   "execution_count": 3,
   "metadata": {
    "collapsed": false
   },
   "outputs": [],
   "source": [
    "# TODO: Use `train_test_split` here.\n",
    "pool_size = (2, 2)\n",
    "nb_classes = 43\n",
    "batch_size = 512\n",
    "nb_epoch = 50\n",
    "input_shape = (32, 32, 3)\n",
    "\n",
    "X_train = data['features']\n",
    "y_train = data['labels']\n",
    "\n",
    "X_train, X_val, y_train, y_val  = train_test_split(X_train, y_train, test_size=0.05)"
   ]
  },
  {
   "cell_type": "code",
   "execution_count": 4,
   "metadata": {
    "collapsed": false
   },
   "outputs": [],
   "source": [
    "# STOP: Do not change the tests below. Your implementation should pass these tests. \n",
    "assert(X_train.shape[0] == y_train.shape[0]), \"The number of images is not equal to the number of labels.\"\n",
    "assert(X_train.shape[1:] == (32,32,3)), \"The dimensions of the images are not 32 x 32 x 3.\"\n",
    "assert(X_val.shape[0] == y_val.shape[0]), \"The number of images is not equal to the number of labels.\"\n",
    "assert(X_val.shape[1:] == (32,32,3)), \"The dimensions of the images are not 32 x 32 x 3.\""
   ]
  },
  {
   "cell_type": "markdown",
   "metadata": {},
   "source": [
    "## Preprocess the Data\n",
    "\n",
    "Now that you've loaded the training data, preprocess the data such that it's in the range between -0.5 and 0.5."
   ]
  },
  {
   "cell_type": "code",
   "execution_count": 5,
   "metadata": {
    "collapsed": false
   },
   "outputs": [],
   "source": [
    "# TODO: Implement data normalization here.\n",
    "\n",
    "size = np.shape(X_train)[0]\n",
    "X_train = ((X_train - np.min(X_train))/(np.max(X_train) - np.min(X_train))) - 0.5\n",
    "X_val = ((X_val - np.min(X_val))/(np.max(X_val) - np.min(X_val))) - 0.5"
   ]
  },
  {
   "cell_type": "code",
   "execution_count": 6,
   "metadata": {
    "collapsed": false
   },
   "outputs": [],
   "source": [
    "# STOP: Do not change the tests below. Your implementation should pass these tests. \n",
    "assert(math.isclose(np.min(X_train), -0.5, abs_tol=1e-5) and math.isclose(np.max(X_train), 0.5, abs_tol=1e-5)), \"The range of the training data is: %.1f to %.1f\" % (np.min(X_train), np.max(X_train))\n",
    "assert(math.isclose(np.min(X_val), -0.5, abs_tol=1e-5) and math.isclose(np.max(X_val), 0.5, abs_tol=1e-5)), \"The range of the validation data is: %.1f to %.1f\" % (np.min(X_val), np.max(X_val))"
   ]
  },
  {
   "cell_type": "markdown",
   "metadata": {},
   "source": [
    "## Build a Two-Layer Feedfoward Network\n",
    "\n",
    "The code you've written so far is for data processing, not specific to Keras. Here you're going to build Keras-specific code.\n",
    "\n",
    "Build a two-layer feedforward neural network, with 128 neurons in the fully-connected hidden layer. \n",
    "\n",
    "To get started, review the Keras documentation about [models](https://keras.io/models/sequential/) and [layers](https://keras.io/layers/core/).\n",
    "\n",
    "The Keras example of a [Multi-Layer Perceptron](https://github.com/fchollet/keras/blob/master/examples/mnist_mlp.py) network is similar to what you need to do here. Use that as a guide, but keep in mind that there are a number of differences."
   ]
  },
  {
   "cell_type": "code",
   "execution_count": null,
   "metadata": {
    "collapsed": false
   },
   "outputs": [],
   "source": [
    "# TODO: Build a two-layer feedforward neural network with Keras here.\n",
    "\n",
    "model = Sequential()\n",
    "model.add(Dense(128, input_shape=(3072,)))\n",
    "model.add(Activation('relu'))\n",
    "model.add(Dense(43, activation='softmax'))\n",
    "model.compile(optimizer='rmsprop',\n",
    "          loss='categorical_crossentropy',\n",
    "          metrics=['accuracy'])"
   ]
  },
  {
   "cell_type": "code",
   "execution_count": null,
   "metadata": {
    "collapsed": false
   },
   "outputs": [],
   "source": [
    "# STOP: Do not change the tests below. Your implementation should pass these tests.\n",
    "dense_layers = []\n",
    "for l in model.layers:\n",
    "    if type(l) == Dense:\n",
    "        dense_layers.append(l)\n",
    "assert(len(dense_layers) == 2), \"There should be 2 Dense layers.\"\n",
    "d1 = dense_layers[0]\n",
    "d2 = dense_layers[1]\n",
    "assert(d1.input_shape == (None, 3072))\n",
    "assert(d1.output_shape == (None, 128))\n",
    "assert(d2.input_shape == (None, 128))\n",
    "assert(d2.output_shape == (None, 43))\n",
    "\n",
    "last_layer = model.layers[-1]\n",
    "assert(last_layer.activation.__name__ == 'softmax'), \"Last layer should be softmax activation, is {}.\".format(last_layer.activation.__name__)"
   ]
  },
  {
   "cell_type": "code",
   "execution_count": null,
   "metadata": {
    "collapsed": false
   },
   "outputs": [],
   "source": [
    "# Debugging\n",
    "for l in model.layers:\n",
    "    print(l.name, l.input_shape, l.output_shape, l.activation)"
   ]
  },
  {
   "cell_type": "markdown",
   "metadata": {},
   "source": [
    "## Train the Network\n",
    "Compile and train the network for 2 epochs. [Use the `adam` optimizer, with `categorical_crossentropy` loss.](https://keras.io/models/sequential/)\n",
    "\n",
    "Hint 1: In order to use categorical cross entropy, you will need to [one-hot encode the labels](https://github.com/fchollet/keras/blob/master/keras/utils/np_utils.py).\n",
    "\n",
    "Hint 2: In order to pass the input images to the fully-connected hidden layer, you will need to [reshape the input](https://github.com/fchollet/keras/blob/master/examples/mnist_mlp.py).\n",
    "\n",
    "Hint 3: Keras's `.fit()` method returns a `History.history` object, which the tests below use. Save that to a variable named `history`."
   ]
  },
  {
   "cell_type": "code",
   "execution_count": 13,
   "metadata": {
    "collapsed": true
   },
   "outputs": [],
   "source": [
    "# TODO: Compile and train the model here.\n",
    "\n",
    "# One hot encode\n",
    "y_train = np_utils.to_categorical(y_train, nb_classes)\n",
    "y_val= np_utils.to_categorical(y_val, nb_classes)\n",
    "X_train = X_train.reshape(X_train.shape[0], 3072)\n",
    "X_val = X_val.reshape(X_val.shape[0], 3072)\n"
   ]
  },
  {
   "cell_type": "code",
   "execution_count": 14,
   "metadata": {
    "collapsed": false
   },
   "outputs": [
    {
     "ename": "NameError",
     "evalue": "name 'model' is not defined",
     "output_type": "error",
     "traceback": [
      "\u001b[0;31m---------------------------------------------------------------------------\u001b[0m",
      "\u001b[0;31mNameError\u001b[0m                                 Traceback (most recent call last)",
      "\u001b[0;32m<ipython-input-14-463edd40f1be>\u001b[0m in \u001b[0;36m<module>\u001b[0;34m()\u001b[0m\n\u001b[0;32m----> 1\u001b[0;31m \u001b[0mhistory\u001b[0m \u001b[0;34m=\u001b[0m \u001b[0mmodel\u001b[0m\u001b[0;34m.\u001b[0m\u001b[0mfit\u001b[0m\u001b[0;34m(\u001b[0m\u001b[0mX_train\u001b[0m\u001b[0;34m,\u001b[0m \u001b[0my_train\u001b[0m\u001b[0;34m,\u001b[0m\u001b[0mnb_epoch\u001b[0m\u001b[0;34m=\u001b[0m\u001b[0mnb_epoch\u001b[0m\u001b[0;34m,\u001b[0m\u001b[0mverbose\u001b[0m\u001b[0;34m=\u001b[0m\u001b[0;36m1\u001b[0m\u001b[0;34m,\u001b[0m \u001b[0mvalidation_data\u001b[0m\u001b[0;34m=\u001b[0m\u001b[0;34m(\u001b[0m\u001b[0mX_val\u001b[0m\u001b[0;34m,\u001b[0m \u001b[0my_val\u001b[0m\u001b[0;34m)\u001b[0m\u001b[0;34m)\u001b[0m\u001b[0;34m\u001b[0m\u001b[0m\n\u001b[0m",
      "\u001b[0;31mNameError\u001b[0m: name 'model' is not defined"
     ]
    }
   ],
   "source": [
    "history = model.fit(X_train, y_train,nb_epoch=nb_epoch,verbose=1, validation_data=(X_val, y_val))"
   ]
  },
  {
   "cell_type": "code",
   "execution_count": 15,
   "metadata": {
    "collapsed": false
   },
   "outputs": [
    {
     "ename": "NameError",
     "evalue": "name 'history' is not defined",
     "output_type": "error",
     "traceback": [
      "\u001b[0;31m---------------------------------------------------------------------------\u001b[0m",
      "\u001b[0;31mNameError\u001b[0m                                 Traceback (most recent call last)",
      "\u001b[0;32m<ipython-input-15-b1af30edc523>\u001b[0m in \u001b[0;36m<module>\u001b[0;34m()\u001b[0m\n\u001b[1;32m      1\u001b[0m \u001b[0;31m# STOP: Do not change the tests below. Your implementation should pass these tests.\u001b[0m\u001b[0;34m\u001b[0m\u001b[0;34m\u001b[0m\u001b[0m\n\u001b[0;32m----> 2\u001b[0;31m \u001b[0;32massert\u001b[0m\u001b[0;34m(\u001b[0m\u001b[0mhistory\u001b[0m\u001b[0;34m.\u001b[0m\u001b[0mhistory\u001b[0m\u001b[0;34m[\u001b[0m\u001b[0;34m'acc'\u001b[0m\u001b[0;34m]\u001b[0m\u001b[0;34m[\u001b[0m\u001b[0;34m-\u001b[0m\u001b[0;36m1\u001b[0m\u001b[0;34m]\u001b[0m \u001b[0;34m>\u001b[0m \u001b[0;36m0.92\u001b[0m\u001b[0;34m)\u001b[0m\u001b[0;34m,\u001b[0m \u001b[0;34m\"The training accuracy was: %.3f\"\u001b[0m \u001b[0;34m%\u001b[0m \u001b[0mhistory\u001b[0m\u001b[0;34m.\u001b[0m\u001b[0mhistory\u001b[0m\u001b[0;34m[\u001b[0m\u001b[0;34m'acc'\u001b[0m\u001b[0;34m]\u001b[0m\u001b[0;34m[\u001b[0m\u001b[0;34m-\u001b[0m\u001b[0;36m1\u001b[0m\u001b[0;34m]\u001b[0m\u001b[0;34m\u001b[0m\u001b[0m\n\u001b[0m\u001b[1;32m      3\u001b[0m \u001b[0;32massert\u001b[0m\u001b[0;34m(\u001b[0m\u001b[0mhistory\u001b[0m\u001b[0;34m.\u001b[0m\u001b[0mhistory\u001b[0m\u001b[0;34m[\u001b[0m\u001b[0;34m'val_acc'\u001b[0m\u001b[0;34m]\u001b[0m\u001b[0;34m[\u001b[0m\u001b[0;34m-\u001b[0m\u001b[0;36m1\u001b[0m\u001b[0;34m]\u001b[0m \u001b[0;34m>\u001b[0m \u001b[0;36m0.9\u001b[0m\u001b[0;34m)\u001b[0m\u001b[0;34m,\u001b[0m \u001b[0;34m\"The validation accuracy is: %.3f\"\u001b[0m \u001b[0;34m%\u001b[0m \u001b[0mhistory\u001b[0m\u001b[0;34m.\u001b[0m\u001b[0mhistory\u001b[0m\u001b[0;34m[\u001b[0m\u001b[0;34m'val_acc'\u001b[0m\u001b[0;34m]\u001b[0m\u001b[0;34m[\u001b[0m\u001b[0;34m-\u001b[0m\u001b[0;36m1\u001b[0m\u001b[0;34m]\u001b[0m\u001b[0;34m\u001b[0m\u001b[0m\n",
      "\u001b[0;31mNameError\u001b[0m: name 'history' is not defined"
     ]
    }
   ],
   "source": [
    "# STOP: Do not change the tests below. Your implementation should pass these tests.\n",
    "assert(history.history['acc'][-1] > 0.92), \"The training accuracy was: %.3f\" % history.history['acc'][-1]\n",
    "assert(history.history['val_acc'][-1] > 0.9), \"The validation accuracy is: %.3f\" % history.history['val_acc'][-1]"
   ]
  },
  {
   "cell_type": "markdown",
   "metadata": {},
   "source": [
    "**Validation Accuracy**: 0.9393"
   ]
  },
  {
   "cell_type": "markdown",
   "metadata": {},
   "source": [
    "## Congratulations\n",
    "You've built a feedforward neural network in Keras!\n",
    "\n",
    "Don't stop here! Next, you'll add a convolutional layer to drive.py."
   ]
  },
  {
   "cell_type": "markdown",
   "metadata": {},
   "source": [
    "## Convolutions\n",
    "Build a new network, similar to your existing network. Before the hidden layer, add a 3x3 [convolutional layer](https://keras.io/layers/convolutional/#convolution2d) with 32 filters and valid padding.\n",
    "\n",
    "Then compile and train the network.\n",
    "\n",
    "Hint 1: The Keras example of a [convolutional neural network](https://github.com/fchollet/keras/blob/master/examples/mnist_cnn.py) for MNIST would be a good example to review.\n",
    "\n",
    "Hint 2: Now that the first layer of the network is a convolutional layer, you no longer need to reshape the input images before passing them to the network. You might need to reload your training data to recover the original shape.\n",
    "\n",
    "Hint 3: Add a [`Flatten()` layer](https://keras.io/layers/core/#flatten) between the convolutional layer and the fully-connected hidden layer."
   ]
  },
  {
   "cell_type": "code",
   "execution_count": null,
   "metadata": {
    "collapsed": false
   },
   "outputs": [],
   "source": [
    "# TODO: Re-construct the network and add a convolutional layer before the first fully-connected layer.\n",
    "\n",
    "\n",
    "X_train = X_train.reshape(X_train.shape[0], 32, 32, 3)\n",
    "X_val = X_val.reshape(X_val.shape[0], 32, 32, 3)\n",
    "\n",
    "model = Sequential()\n",
    "model.add(Convolution2D(32, 3, 3,\n",
    "                        border_mode='valid',\n",
    "                        input_shape=input_shape))\n",
    "model.add(Activation('relu'))\n",
    "model.add(Flatten())\n",
    "model.add(Dense(128))\n",
    "model.add(Activation('relu'))\n",
    "model.add(Dense(43, activation='softmax'))\n",
    "model.compile(optimizer='rmsprop',\n",
    "          loss='categorical_crossentropy',\n",
    "          metrics=['accuracy'])\n",
    "\n",
    "history = model.fit(X_train, y_train,nb_epoch=nb_epoch,verbose=1, validation_data=(X_val, y_val))"
   ]
  },
  {
   "cell_type": "code",
   "execution_count": null,
   "metadata": {
    "collapsed": true
   },
   "outputs": [],
   "source": [
    "# STOP: Do not change the tests below. Your implementation should pass these tests.\n",
    "assert(history.history['val_acc'][-1] > 0.95), \"The validation accuracy is: %.3f\" % history.history['val_acc'][-1]"
   ]
  },
  {
   "cell_type": "markdown",
   "metadata": {},
   "source": [
    "**Validation Accuracy**: 0.972463029067"
   ]
  },
  {
   "cell_type": "markdown",
   "metadata": {},
   "source": [
    "## Pooling\n",
    "Re-construct your network and add a 2x2 [pooling layer](https://keras.io/layers/pooling/#maxpooling2d) immediately following your convolutional layer.\n",
    "\n",
    "Then compile and train the network."
   ]
  },
  {
   "cell_type": "code",
   "execution_count": null,
   "metadata": {
    "collapsed": false
   },
   "outputs": [],
   "source": [
    "# TODO: Re-construct the network and add a pooling layer after the convolutional layer.\n",
    "pool_size = (2, 2)\n",
    "\n",
    "model = Sequential()\n",
    "model.add(Convolution2D(32, 3, 3,\n",
    "                        border_mode='valid',\n",
    "                        input_shape=input_shape))\n",
    "model.add(Activation('relu'))\n",
    "model.add(MaxPooling2D(pool_size=pool_size))\n",
    "model.add(Flatten())\n",
    "model.add(Dense(128))\n",
    "model.add(Activation('relu'))\n",
    "model.add(Dense(43, activation='softmax'))\n",
    "model.compile(optimizer='rmsprop',\n",
    "          loss='categorical_crossentropy',\n",
    "          metrics=['accuracy'])\n",
    "\n",
    "history = model.fit(X_train, y_train,nb_epoch=nb_epoch,verbose=1, validation_data=(X_val, y_val))"
   ]
  },
  {
   "cell_type": "code",
   "execution_count": null,
   "metadata": {
    "collapsed": true
   },
   "outputs": [],
   "source": [
    "# STOP: Do not change the tests below. Your implementation should pass these tests.\n",
    "assert(history.history['val_acc'][-1] > 0.95), \"The validation accuracy is: %.3f\" % history.history['val_acc'][-1]"
   ]
  },
  {
   "cell_type": "markdown",
   "metadata": {},
   "source": [
    "**Validation Accuracy**: 0.9837"
   ]
  },
  {
   "cell_type": "markdown",
   "metadata": {},
   "source": [
    "## Dropout\n",
    "Re-construct your network and add [dropout](https://keras.io/layers/core/#dropout) after the pooling layer. Set the dropout rate to 50%."
   ]
  },
  {
   "cell_type": "code",
   "execution_count": null,
   "metadata": {
    "collapsed": false,
    "scrolled": true
   },
   "outputs": [],
   "source": [
    "# TODO: Re-construct the network and add dropout after the pooling layer.\n",
    "\n",
    "\n",
    "model = Sequential()\n",
    "model.add(Convolution2D(32, 3, 3,\n",
    "                        border_mode='valid',\n",
    "                        input_shape=input_shape))\n",
    "model.add(Activation('relu'))\n",
    "model.add(MaxPooling2D(pool_size=pool_size))\n",
    "model.add(Dropout(0.5))\n",
    "model.add(Flatten())\n",
    "model.add(Dense(128))\n",
    "model.add(Activation('relu'))\n",
    "model.add(Dense(43, activation='softmax'))\n",
    "model.compile(optimizer='rmsprop',\n",
    "          loss='categorical_crossentropy',\n",
    "          metrics=['accuracy'])\n",
    "\n",
    "history = model.fit(X_train, y_train,nb_epoch=nb_epoch,verbose=1, validation_data=(X_val, y_val))"
   ]
  },
  {
   "cell_type": "code",
   "execution_count": null,
   "metadata": {
    "collapsed": true
   },
   "outputs": [],
   "source": [
    "# STOP: Do not change the tests below. Your implementation should pass these tests.\n",
    "assert(history.history['val_acc'][-1] > 0.95), \"The validation accuracy is: %.3f\" % history.history['val_acc'][-1]"
   ]
  },
  {
   "cell_type": "markdown",
   "metadata": {
    "collapsed": true
   },
   "source": [
    "**Validation Accuracy**: 0.9898"
   ]
  },
  {
   "cell_type": "markdown",
   "metadata": {},
   "source": [
    "## Optimization\n",
    "Congratulations! You've built a neural network with convolutions, pooling, dropout, and fully-connected layers, all in just a few lines of code.\n",
    "\n",
    "Have fun with the model and see how well you can do! Add more layers, or regularization, or different padding, or batches, or more training epochs.\n",
    "\n",
    "What is the best validation accuracy you can achieve?"
   ]
  },
  {
   "cell_type": "code",
   "execution_count": 16,
   "metadata": {
    "collapsed": false
   },
   "outputs": [
    {
     "name": "stdout",
     "output_type": "stream",
     "text": [
      "Train on 37248 samples, validate on 1961 samples\n",
      "Epoch 1/50\n",
      "37248/37248 [==============================] - 54s - loss: 2.4537 - acc: 0.3357 - val_loss: 1.0805 - val_acc: 0.6808\n",
      "Epoch 2/50\n",
      "37248/37248 [==============================] - 56s - loss: 0.6192 - acc: 0.8129 - val_loss: 0.3733 - val_acc: 0.8914\n",
      "Epoch 3/50\n",
      "37248/37248 [==============================] - 55s - loss: 0.2496 - acc: 0.9293 - val_loss: 0.2461 - val_acc: 0.9434\n",
      "Epoch 4/50\n",
      "37248/37248 [==============================] - 55s - loss: 0.1545 - acc: 0.9566 - val_loss: 0.1625 - val_acc: 0.9628\n",
      "Epoch 5/50\n",
      "37248/37248 [==============================] - 53s - loss: 0.0973 - acc: 0.9726 - val_loss: 0.1140 - val_acc: 0.9760\n",
      "Epoch 6/50\n",
      "37248/37248 [==============================] - 53s - loss: 0.0746 - acc: 0.9789 - val_loss: 0.1379 - val_acc: 0.9725\n",
      "Epoch 7/50\n",
      "37248/37248 [==============================] - 55s - loss: 0.0485 - acc: 0.9863 - val_loss: 0.1479 - val_acc: 0.9735\n",
      "Epoch 8/50\n",
      "37248/37248 [==============================] - 54s - loss: 0.0415 - acc: 0.9888 - val_loss: 0.2055 - val_acc: 0.9618\n",
      "Epoch 9/50\n",
      "37248/37248 [==============================] - 53s - loss: 0.0368 - acc: 0.9903 - val_loss: 0.1517 - val_acc: 0.9725\n",
      "Epoch 10/50\n",
      "37248/37248 [==============================] - 52s - loss: 0.0339 - acc: 0.9915 - val_loss: 0.1112 - val_acc: 0.9822\n",
      "Epoch 11/50\n",
      "37248/37248 [==============================] - 52s - loss: 0.0258 - acc: 0.9932 - val_loss: 0.1102 - val_acc: 0.9832\n",
      "Epoch 12/50\n",
      "37248/37248 [==============================] - 54s - loss: 0.0240 - acc: 0.9937 - val_loss: 0.0911 - val_acc: 0.9857\n",
      "Epoch 13/50\n",
      "37248/37248 [==============================] - 53s - loss: 0.0209 - acc: 0.9950 - val_loss: 0.1104 - val_acc: 0.9827\n",
      "Epoch 14/50\n",
      "37248/37248 [==============================] - 57s - loss: 0.0187 - acc: 0.9954 - val_loss: 0.0818 - val_acc: 0.9862\n",
      "Epoch 15/50\n",
      "37248/37248 [==============================] - 52s - loss: 0.0158 - acc: 0.9962 - val_loss: 0.1368 - val_acc: 0.9801\n",
      "Epoch 16/50\n",
      "37248/37248 [==============================] - 54s - loss: 0.0177 - acc: 0.9961 - val_loss: 0.1903 - val_acc: 0.9771\n",
      "Epoch 17/50\n",
      "37248/37248 [==============================] - 53s - loss: 0.0153 - acc: 0.9973 - val_loss: 0.1308 - val_acc: 0.9822\n",
      "Epoch 18/50\n",
      "37248/37248 [==============================] - 52s - loss: 0.0157 - acc: 0.9967 - val_loss: 0.1441 - val_acc: 0.9796\n",
      "Epoch 19/50\n",
      "37248/37248 [==============================] - 52s - loss: 0.0147 - acc: 0.9965 - val_loss: 0.0964 - val_acc: 0.9873\n",
      "Epoch 20/50\n",
      "37248/37248 [==============================] - 52s - loss: 0.0179 - acc: 0.9963 - val_loss: 0.0882 - val_acc: 0.9862\n",
      "Epoch 21/50\n",
      "37248/37248 [==============================] - 52s - loss: 0.0149 - acc: 0.9968 - val_loss: 0.0905 - val_acc: 0.9873\n",
      "Epoch 22/50\n",
      "37248/37248 [==============================] - 52s - loss: 0.0137 - acc: 0.9972 - val_loss: 0.0976 - val_acc: 0.9811\n",
      "Epoch 23/50\n",
      "37248/37248 [==============================] - 52s - loss: 0.0127 - acc: 0.9971 - val_loss: 0.0988 - val_acc: 0.9847\n",
      "Epoch 24/50\n",
      "37248/37248 [==============================] - 51s - loss: 0.0109 - acc: 0.9975 - val_loss: 0.0979 - val_acc: 0.9893\n",
      "Epoch 25/50\n",
      "37248/37248 [==============================] - 51s - loss: 0.0121 - acc: 0.9976 - val_loss: 0.0920 - val_acc: 0.9893\n",
      "Epoch 26/50\n",
      "37248/37248 [==============================] - 54s - loss: 0.0091 - acc: 0.9980 - val_loss: 0.1003 - val_acc: 0.9852\n",
      "Epoch 27/50\n",
      "37248/37248 [==============================] - 55s - loss: 0.0118 - acc: 0.9977 - val_loss: 0.1193 - val_acc: 0.9816\n",
      "Epoch 28/50\n",
      "37248/37248 [==============================] - 53s - loss: 0.0107 - acc: 0.9977 - val_loss: 0.1091 - val_acc: 0.9852\n",
      "Epoch 29/50\n",
      "37248/37248 [==============================] - 53s - loss: 0.0112 - acc: 0.9977 - val_loss: 0.0855 - val_acc: 0.9893\n",
      "Epoch 30/50\n",
      "37248/37248 [==============================] - 55s - loss: 0.0099 - acc: 0.9982 - val_loss: 0.0951 - val_acc: 0.9857\n",
      "Epoch 31/50\n",
      "37248/37248 [==============================] - 55s - loss: 0.0122 - acc: 0.9977 - val_loss: 0.0803 - val_acc: 0.9893\n",
      "Epoch 32/50\n",
      "37248/37248 [==============================] - 52s - loss: 0.0110 - acc: 0.9979 - val_loss: 0.0868 - val_acc: 0.9832\n",
      "Epoch 33/50\n",
      "37248/37248 [==============================] - 52s - loss: 0.0089 - acc: 0.9983 - val_loss: 0.0990 - val_acc: 0.9878\n",
      "Epoch 34/50\n",
      "37248/37248 [==============================] - 52s - loss: 0.0103 - acc: 0.9985 - val_loss: 0.0932 - val_acc: 0.9873\n",
      "Epoch 35/50\n",
      "37248/37248 [==============================] - 54s - loss: 0.0095 - acc: 0.9984 - val_loss: 0.0985 - val_acc: 0.9862\n",
      "Epoch 36/50\n",
      "37248/37248 [==============================] - 54s - loss: 0.0086 - acc: 0.9984 - val_loss: 0.0987 - val_acc: 0.9878\n",
      "Epoch 37/50\n",
      "37248/37248 [==============================] - 55s - loss: 0.0062 - acc: 0.9991 - val_loss: 0.1189 - val_acc: 0.9862\n",
      "Epoch 38/50\n",
      "37248/37248 [==============================] - 52s - loss: 0.0092 - acc: 0.9983 - val_loss: 0.0968 - val_acc: 0.9883\n",
      "Epoch 39/50\n",
      "37248/37248 [==============================] - 52s - loss: 0.0098 - acc: 0.9980 - val_loss: 0.0903 - val_acc: 0.9873\n",
      "Epoch 40/50\n",
      "37248/37248 [==============================] - 52s - loss: 0.0100 - acc: 0.9981 - val_loss: 0.0945 - val_acc: 0.9873\n",
      "Epoch 41/50\n",
      "37248/37248 [==============================] - 52s - loss: 0.0076 - acc: 0.9986 - val_loss: 0.1109 - val_acc: 0.9852\n",
      "Epoch 42/50\n",
      "37248/37248 [==============================] - 52s - loss: 0.0082 - acc: 0.9986 - val_loss: 0.0888 - val_acc: 0.9898\n",
      "Epoch 43/50\n",
      "37248/37248 [==============================] - 52s - loss: 0.0079 - acc: 0.9987 - val_loss: 0.1070 - val_acc: 0.9862\n",
      "Epoch 44/50\n",
      "37248/37248 [==============================] - 52s - loss: 0.0071 - acc: 0.9987 - val_loss: 0.1091 - val_acc: 0.9883\n",
      "Epoch 45/50\n",
      "37248/37248 [==============================] - 52s - loss: 0.0069 - acc: 0.9988 - val_loss: 0.0905 - val_acc: 0.9893\n",
      "Epoch 46/50\n",
      "37248/37248 [==============================] - 52s - loss: 0.0081 - acc: 0.9986 - val_loss: 0.0996 - val_acc: 0.9862\n",
      "Epoch 47/50\n",
      "37248/37248 [==============================] - 52s - loss: 0.0076 - acc: 0.9986 - val_loss: 0.1034 - val_acc: 0.9893\n",
      "Epoch 48/50\n",
      "37248/37248 [==============================] - 52s - loss: 0.0085 - acc: 0.9984 - val_loss: 0.1074 - val_acc: 0.9893\n",
      "Epoch 49/50\n",
      "37248/37248 [==============================] - 52s - loss: 0.0103 - acc: 0.9984 - val_loss: 0.1087 - val_acc: 0.9873\n",
      "Epoch 50/50\n",
      "37248/37248 [==============================] - 56s - loss: 0.0101 - acc: 0.9984 - val_loss: 0.0933 - val_acc: 0.9878\n"
     ]
    }
   ],
   "source": [
    "input_shape = (32, 32, 3)\n",
    "\n",
    "X_train = X_train.reshape(X_train.shape[0], 32, 32, 3)\n",
    "X_val = X_val.reshape(X_val.shape[0], 32, 32, 3)\n",
    "\n",
    "\n",
    "model2 = Sequential()\n",
    "model2.add(Convolution2D(32, 3, 3,\n",
    "                        border_mode='valid',\n",
    "                        input_shape=input_shape))\n",
    "model2.add(Activation('relu'))\n",
    "model2.add(MaxPooling2D(pool_size=pool_size))\n",
    "model2.add(Convolution2D(16, 3, 3,\n",
    "                        border_mode='valid',\n",
    "                        input_shape=input_shape))\n",
    "model2.add(Convolution2D(32, 5, 5,\n",
    "                        border_mode='same',\n",
    "                        input_shape=input_shape))\n",
    "model2.add(Convolution2D(64, 1, 1,\n",
    "                        border_mode='same',\n",
    "                        input_shape=input_shape))\n",
    "\n",
    "model2.add(Dropout(0.5))\n",
    "model2.add(Flatten())\n",
    "model2.add(Dense(512))\n",
    "model2.add(Activation('relu'))\n",
    "model2.add(Dense(43, activation='softmax'))\n",
    "\n",
    "model2.compile(optimizer='rmsprop',\n",
    "          loss='categorical_crossentropy',\n",
    "          metrics=['accuracy'])\n",
    "\n",
    "history = model2.fit(X_train, y_train, batch_size=batch_size, nb_epoch=nb_epoch,verbose=1, validation_data=(X_val, y_val))\n"
   ]
  },
  {
   "cell_type": "markdown",
   "metadata": {},
   "source": [
    "**Best Validation Accuracy:** 0.9878"
   ]
  },
  {
   "cell_type": "markdown",
   "metadata": {},
   "source": [
    "## Testing\n",
    "Once you've picked out your best model, it's time to test it.\n",
    "\n",
    "Load up the test data and use the [`evaluate()` method](https://keras.io/models/model/#evaluate) to see how well it does.\n",
    "\n",
    "Hint 1: The `evaluate()` method should return an array of numbers. Use the `metrics_names()` method to get the labels."
   ]
  },
  {
   "cell_type": "code",
   "execution_count": 20,
   "metadata": {
    "collapsed": false
   },
   "outputs": [
    {
     "name": "stdout",
     "output_type": "stream",
     "text": [
      "12630/12630 [==============================] - 7s     \n"
     ]
    },
    {
     "data": {
      "text/plain": [
       "[0.71403611556445679, 0.92897862236554529]"
      ]
     },
     "execution_count": 20,
     "metadata": {},
     "output_type": "execute_result"
    }
   ],
   "source": [
    "# TODO: Load test data\n",
    "with open('./Data/test.p', 'rb') as f:\n",
    "    test = pickle.load(f)\n",
    "X_test = test['features']\n",
    "y_test = test['labels']    \n",
    "\n",
    "# TODO: Preprocess data & one-hot encode the labels\n",
    "y_test= np_utils.to_categorical(y_test, nb_classes)\n",
    "X_test = ((X_test - np.min(X_test))/(np.max(X_test) - np.min(X_test))) - 0.5\n",
    "X_test = X_test.reshape(X_test.shape[0], 32, 32, 3)\n",
    "\n",
    "\n",
    "# TODO: Evaluate model on test data\n",
    "# m = model2\n",
    "model2.evaluate(X_test, y_test)"
   ]
  },
  {
   "cell_type": "markdown",
   "metadata": {},
   "source": [
    "**Test Accuracy:** 0.9289"
   ]
  },
  {
   "cell_type": "markdown",
   "metadata": {},
   "source": [
    "## Summary\n",
    "Keras is a great tool to use if you want to quickly build a neural network and evaluate performance."
   ]
  }
 ],
 "metadata": {
  "anaconda-cloud": {},
  "kernelspec": {
   "display_name": "Python [default]",
   "language": "python",
   "name": "python3"
  },
  "language_info": {
   "codemirror_mode": {
    "name": "ipython",
    "version": 3
   },
   "file_extension": ".py",
   "mimetype": "text/x-python",
   "name": "python",
   "nbconvert_exporter": "python",
   "pygments_lexer": "ipython3",
   "version": "3.5.2"
  }
 },
 "nbformat": 4,
 "nbformat_minor": 0
}
